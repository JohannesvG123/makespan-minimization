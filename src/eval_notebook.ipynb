{
 "cells": [
  {
   "cell_type": "code",
   "outputs": [],
   "source": [
    "import os\n",
    "\n",
    "import pandas as pd\n",
    "\n",
    "import eval\n",
    "import numpy\n",
    "import matplotlib.pyplot as plt"
   ],
   "metadata": {
    "collapsed": false,
    "ExecuteTime": {
     "end_time": "2024-02-08T21:06:23.245517400Z",
     "start_time": "2024-02-08T21:06:23.223953700Z"
    }
   },
   "id": "bcbb0344cfa6c872",
   "execution_count": 6
  },
  {
   "cell_type": "code",
   "outputs": [
    {
     "name": "stdout",
     "output_type": "stream",
     "text": [
      "reading logfile: logs_2024-02-07_16-42-33.txt\n",
      "reading logfile: logs_2024-02-07_16-42-51.txt\n"
     ]
    }
   ],
   "source": [
    "os.chdir('C:/Users/johan/RustroverProjects/makespan-minimization')\n",
    "measurements = eval.run()"
   ],
   "metadata": {
    "collapsed": false,
    "ExecuteTime": {
     "end_time": "2024-02-08T21:06:23.262683900Z",
     "start_time": "2024-02-08T21:06:23.249517200Z"
    }
   },
   "id": "1277c661c82d58a",
   "execution_count": 7
  },
  {
   "cell_type": "code",
   "outputs": [],
   "source": [
    "ubs1 = pd.Series(measurements[0][6][0][1], measurements[0][6][0][0])"
   ],
   "metadata": {
    "collapsed": false,
    "ExecuteTime": {
     "end_time": "2024-02-08T21:06:23.286750700Z",
     "start_time": "2024-02-08T21:06:23.265958200Z"
    }
   },
   "id": "8843ff8106a173ca",
   "execution_count": 8
  },
  {
   "cell_type": "code",
   "outputs": [
    {
     "data": {
      "text/plain": "           0\n0.000000  30\n0.000898  29\n0.001463  28\n0.001630  19",
      "text/html": "<div>\n<style scoped>\n    .dataframe tbody tr th:only-of-type {\n        vertical-align: middle;\n    }\n\n    .dataframe tbody tr th {\n        vertical-align: top;\n    }\n\n    .dataframe thead th {\n        text-align: right;\n    }\n</style>\n<table border=\"1\" class=\"dataframe\">\n  <thead>\n    <tr style=\"text-align: right;\">\n      <th></th>\n      <th>0</th>\n    </tr>\n  </thead>\n  <tbody>\n    <tr>\n      <th>0.000000</th>\n      <td>30</td>\n    </tr>\n    <tr>\n      <th>0.000898</th>\n      <td>29</td>\n    </tr>\n    <tr>\n      <th>0.001463</th>\n      <td>28</td>\n    </tr>\n    <tr>\n      <th>0.001630</th>\n      <td>19</td>\n    </tr>\n  </tbody>\n</table>\n</div>"
     },
     "execution_count": 9,
     "metadata": {},
     "output_type": "execute_result"
    }
   ],
   "source": [
    "pd.DataFrame(ubs1)"
   ],
   "metadata": {
    "collapsed": false,
    "ExecuteTime": {
     "end_time": "2024-02-08T21:06:23.322785Z",
     "start_time": "2024-02-08T21:06:23.268465500Z"
    }
   },
   "id": "c927ada7b02031af",
   "execution_count": 9
  },
  {
   "cell_type": "code",
   "outputs": [
    {
     "data": {
      "text/plain": "<Axes: >"
     },
     "execution_count": 10,
     "metadata": {},
     "output_type": "execute_result"
    },
    {
     "data": {
      "text/plain": "<Figure size 640x480 with 1 Axes>",
      "image/png": "[encoded data removed]"
     },
     "metadata": {},
     "output_type": "display_data"
    }
   ],
   "source": [
    "ubs1.plot(grid=True,style='x-')"
   ],
   "metadata": {
    "collapsed": false,
    "ExecuteTime": {
     "end_time": "2024-02-08T21:06:23.396127800Z",
     "start_time": "2024-02-08T21:06:23.276752200Z"
    }
   },
   "id": "6548f8dcf2df9b45",
   "execution_count": 10
  },
  {
   "cell_type": "code",
   "outputs": [],
   "source": [],
   "metadata": {
    "collapsed": false,
    "ExecuteTime": {
     "end_time": "2024-02-08T21:06:23.432127900Z",
     "start_time": "2024-02-08T21:06:23.379123700Z"
    }
   },
   "id": "3e0448bf534bf403",
   "execution_count": 10
  }
 ],
 "metadata": {
  "kernelspec": {
   "display_name": "Python 3",
   "language": "python",
   "name": "python3"
  },
  "language_info": {
   "codemirror_mode": {
    "name": "ipython",
    "version": 2
   },
   "file_extension": ".py",
   "mimetype": "text/x-python",
   "name": "python",
   "nbconvert_exporter": "python",
   "pygments_lexer": "ipython2",
   "version": "2.7.6"
  }
 },
 "nbformat": 4,
 "nbformat_minor": 5
}
